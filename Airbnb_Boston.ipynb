{
 "cells": [
  {
   "cell_type": "markdown",
   "metadata": {},
   "source": [
    "# CRISP-DM"
   ]
  },
  {
   "cell_type": "markdown",
   "metadata": {},
   "source": [
    "## This Notebook follows the standards of CRISP-DM as follows:"
   ]
  },
  {
   "cell_type": "markdown",
   "metadata": {},
   "source": [
    "### 1) Business Understanding:\n",
    "### What is Airbnb: it is a website that allows any individual to lease a property for a short duration, Airbnb business model is based on charging a commission on the leasers, the important qustion for leasers is how could I increse the reservations on my property ?\n"
   ]
  },
  {
   "cell_type": "markdown",
   "metadata": {},
   "source": [
    "### 2) Data Understanding\n",
    "### The data consists of three data sets (The data timeframe is one year): a listings data set which has all the information shown on the website about the property, a reviews data set that contains all the people's reviews regarding the property, and a calendar data set which when the property was available and when it was not\n"
   ]
  },
  {
   "cell_type": "markdown",
   "metadata": {},
   "source": [
    "### 3) Data Preparation\n",
    "### Cleaning and wrangling: The data was cleaned and prepared as seen in the Jupyter notebook attached in the respiratory: I have tried to find the positivity of a comment in a very basic way, I have gathered a list of positive and negative adjectives, then found the ratios of positive and negative adjectives to the length of the comment, then the data was aggregated as an average for each specific property, the new reviews dataset is attached in the respiratory\n"
   ]
  },
  {
   "cell_type": "markdown",
   "metadata": {},
   "source": [
    "### 4) Modeling\n",
    "### The data was modeled to find the best predictors for the response obtained from the calendar dataset which is \"not_available_rate\", it is assumed that if the property is not available on a certain day then it is leased, the higher the value the better, then the reviews data set and relevant columns in the listing dataset were used to predict the response."
   ]
  },
  {
   "cell_type": "markdown",
   "metadata": {},
   "source": [
    "### 5) Evaluation:\n",
    "### After multiple iterations the final model explains 21% of the variation in the response variable, there might be more factors that contribute to the \"not_available_rate\" rather than the website itself.\n"
   ]
  },
  {
   "cell_type": "markdown",
   "metadata": {},
   "source": [
    "### 6) Deployment:\n",
    "### Some suggestions were made at the end of the notebook and in the Medium post."
   ]
  },
  {
   "cell_type": "code",
   "execution_count": 1,
   "metadata": {},
   "outputs": [],
   "source": [
    "import pandas as pd\n",
    "import numpy as np\n",
    "import matplotlib.pyplot as plt\n",
    "import seaborn as sns\n",
    "import os\n",
    "from sklearn.linear_model import LinearRegression\n",
    "from sklearn.model_selection import train_test_split\n",
    "from sklearn.metrics import r2_score, mean_squared_error\n",
    "from ast import literal_eval\n",
    "from scipy import stats\n",
    "%matplotlib inline"
   ]
  },
  {
   "cell_type": "code",
   "execution_count": 2,
   "metadata": {},
   "outputs": [],
   "source": [
    "path = \"C:\\\\Users\\\\faris\\\\Desktop\\\\Udacity Data Scientest\\\\Project 1\\\\Boston\""
   ]
  },
  {
   "cell_type": "markdown",
   "metadata": {},
   "source": [
    "## Reading files"
   ]
  },
  {
   "cell_type": "markdown",
   "metadata": {},
   "source": [
    "### Gathering Data"
   ]
  },
  {
   "cell_type": "code",
   "execution_count": 75,
   "metadata": {},
   "outputs": [],
   "source": [
    "dict_dfs = {}\n",
    "for file in os.listdir(path):\n",
    "    dict_dfs[file[:-4]] = pd.read_csv(path + \"\\\\\" + file)"
   ]
  },
  {
   "cell_type": "code",
   "execution_count": 76,
   "metadata": {},
   "outputs": [
    {
     "data": {
      "text/plain": [
       "dict_keys(['calendar', 'listings', 'reviews'])"
      ]
     },
     "execution_count": 76,
     "metadata": {},
     "output_type": "execute_result"
    }
   ],
   "source": [
    "dict_dfs.keys()"
   ]
  },
  {
   "cell_type": "markdown",
   "metadata": {},
   "source": [
    "# Special treatment for the reviews dataframe to asses the postivity and negtivity of each comment, as the computation takes long time it will be save as the new csv file"
   ]
  },
  {
   "cell_type": "markdown",
   "metadata": {},
   "source": [
    "### Cleaning"
   ]
  },
  {
   "cell_type": "markdown",
   "metadata": {
    "collapsed": true
   },
   "source": [
    "#Dropping rows with null comment\n",
    "dict_dfs[\"reviews\"] = dict_dfs[\"reviews\"].dropna(subset=[\"comments\"], axis = 0).reset_index(drop = True)\n",
    "\n",
    "#https://gist.github.com/mkulakowski2/4289437\n",
    "#The above link contains a text file for most used postive adjectives, which will be used to find the postivity of reviews\n",
    "postive = pd.read_csv(\"Postive.csv\")\n",
    "postive = list(postive[\"ADJ\"])\n",
    "\n",
    "#https://gist.github.com/mkulakowski2/4289441\n",
    "#The above link contains a text file for most used negtive adjectives, which will be used to find the negtivity of reviews\n",
    "negtive = pd.read_csv(\"Negtive.csv\")\n",
    "negtive = list(negtive[\"ADJ\"])\n",
    "\n",
    "#lists which will have the the ratio of postive or negtive adjective to the total number of words in the comment\n",
    "lst_postive_ratio = []\n",
    "lst_negtive_ratio = []\n",
    "\n",
    "\n",
    "#iterating over all comments in the dataframe\n",
    "for comment in range(dict_dfs[\"reviews\"].shape[0]):\n",
    "    \n",
    "    #getting all the words in the comment\n",
    "    lst_of_comment_words = dict_dfs[\"reviews\"][\"comments\"].iloc[comment].split(\" \")\n",
    "    #counter of postive or negtive words\n",
    "    postive_count = 0\n",
    "    negtive_count = 0\n",
    "    \n",
    "    for word in lst_of_comment_words:\n",
    "        if word in postive:\n",
    "            postive_count += 1\n",
    "        elif word in negtive:\n",
    "            negtive_count += 1\n",
    "    #calculating the ratio of postive or negtive to the total number of words in the comment\n",
    "    postive_ratio = postive_count/len(lst_of_comment_words)\n",
    "    negtive_ratio = negtive_count/len(lst_of_comment_words)\n",
    "    \n",
    "    lst_postive_ratio.append(postive_ratio)\n",
    "    lst_negtive_ratio.append(negtive_ratio)\n",
    "    \n",
    "    print(comment)\n",
    "    \n",
    "dict_dfs[\"reviews\"][\"postive_ratio\"] = lst_postive_ratio\n",
    "dict_dfs[\"reviews\"][\"negtive_ratio\"] = lst_negtive_ratio"
   ]
  },
  {
   "cell_type": "markdown",
   "metadata": {},
   "source": [
    "dict_dfs[\"reviews\"].to_csv(path + \"\\\\\" + \"reviews.csv\")"
   ]
  },
  {
   "cell_type": "markdown",
   "metadata": {},
   "source": [
    "# General Functions"
   ]
  },
  {
   "cell_type": "markdown",
   "metadata": {},
   "source": [
    "### Gathering Data Function"
   ]
  },
  {
   "cell_type": "code",
   "execution_count": 3,
   "metadata": {},
   "outputs": [],
   "source": [
    "def reading_dfs(path = \"C:\\\\Users\\\\faris\\\\Desktop\\\\Udacity Data Scientest\\\\Project 1\\\\Boston\"):\n",
    "    '''\n",
    "    A function which reads the CSVs in a path and return a dictinoray of all dataframes\n",
    "    \n",
    "    Input: a path of a folder which contains three files: listings.csv, calendar.csv, and the transformed reviews.csv\n",
    "            which could be found in the CSV files.zip\n",
    "            The files listings.csv, calendar.csv could be found in the data source\n",
    "            \n",
    "    Output: dictionary of the loaded dataframes\n",
    "    \n",
    "    '''\n",
    "    dict_dfs = {}\n",
    "    for file in os.listdir(path):\n",
    "        dict_dfs[file[:-4]] = pd.read_csv(path + \"\\\\\" + file)\n",
    "        \n",
    "    return dict_dfs"
   ]
  },
  {
   "cell_type": "markdown",
   "metadata": {},
   "source": [
    "### Cleaning Data Function"
   ]
  },
  {
   "cell_type": "code",
   "execution_count": 4,
   "metadata": {},
   "outputs": [],
   "source": [
    "def clean_calendar_df(df):\n",
    "    '''\n",
    "    A function to clean the calendar df\n",
    "    \n",
    "    Input: calendar dataframe\n",
    "    \n",
    "    Output: cleaned calendar dataframe\n",
    "    \n",
    "    '''\n",
    "    #Transforming the calender data to the availability rate per id\n",
    "    df = pd.DataFrame(df.groupby([\"listing_id\"])[\"available\"].value_counts(normalize=True)).rename(columns = {\"available\":\"count\"}).reset_index()\n",
    "    df = df.rename(columns = {\"listing_id\":\"id\"})\n",
    "\n",
    "    #Filtering the data to get only the percentge when it is not available\n",
    "    df = df[df[\"available\"] == \"f\"].reset_index(drop = True)\n",
    "    \n",
    "    return df"
   ]
  },
  {
   "cell_type": "markdown",
   "metadata": {},
   "source": [
    "### Cleaning Data Function"
   ]
  },
  {
   "cell_type": "code",
   "execution_count": 5,
   "metadata": {},
   "outputs": [],
   "source": [
    "# A function to clean the listing df\n",
    "def clean_listings_df(df,extra_columns = []): \n",
    "    '''\n",
    "    A function to clean the listings df\n",
    "    \n",
    "    Input: listings dataframe, extra_columns which is a list of variables that will be added for trial 3\n",
    "    \n",
    "    Output: cleaned listings dataframe\n",
    "    \n",
    "    '''\n",
    "    # Droping all rows which have the response value as null\n",
    "    df = df.dropna(subset = [\"not_available_rate\"],axis = 0).reset_index(drop = True)\n",
    "\n",
    "    # Changing house_rules column: Assign True if the propertey have house rules, False if it donse not have\n",
    "    df[\"house_rules\"] = df[\"house_rules\"].apply(lambda x: \"t\" if \"str\" in str(type(x)) else \"f\")\n",
    "\n",
    "    # Changing host_since column to be the diffrence between the most recent date in the column and the date, \n",
    "    # this will be much eaiser to interpret\n",
    "    df[\"host_since\"] = pd.to_datetime(df[\"host_since\"]).apply(lambda x: (pd.to_datetime(df[\"host_since\"]).max() - x).days)\n",
    "\n",
    "    #Changing some columns to float\n",
    "    df[\"host_response_rate\"] = df[\"host_response_rate\"].str[:-1].apply(float)\n",
    "    df[\"host_acceptance_rate\"] = df[\"host_acceptance_rate\"].str[:-1].apply(float)\n",
    "    #These columns required removing a comma and $ to be converted to float\n",
    "    for col in ['price', 'weekly_price', 'monthly_price', 'security_deposit','cleaning_fee','extra_people']:\n",
    "        df[col] = df[col].str.replace(\"$\",\"\").str.replace(\",\",\"\").apply(float)\n",
    "\n",
    "\n",
    "    #Getting the response value and the features matrix\n",
    "    y = df[\"not_available_rate\"]\n",
    "    X = df[[\"house_rules\",\"host_since\",\"host_response_time\",\"host_response_rate\",\n",
    "                              \"host_acceptance_rate\",\"host_is_superhost\",\"host_listings_count\",\"host_verifications\",\n",
    "                              \"host_identity_verified\",'neighbourhood_cleansed',\n",
    "                              'is_location_exact', 'property_type', 'room_type', 'accommodates','bathrooms', \n",
    "                              'bedrooms', 'beds', 'bed_type','price', 'weekly_price', 'monthly_price', \n",
    "                              'security_deposit','cleaning_fee', 'guests_included', 'extra_people', 'minimum_nights',\n",
    "                                'maximum_nights','number_of_reviews','instant_bookable','cancellation_policy', \n",
    "                              'require_guest_profile_picture','require_guest_phone_verification',\"review_scores_rating\"] + extra_columns].copy()\n",
    "\n",
    "    return X,y"
   ]
  },
  {
   "cell_type": "markdown",
   "metadata": {},
   "source": [
    "### Cleaning Data Function"
   ]
  },
  {
   "cell_type": "code",
   "execution_count": 6,
   "metadata": {},
   "outputs": [],
   "source": [
    "def transfrom_catgorical(df):\n",
    "    '''\n",
    "     A function which transform catgorical data into dummy columns\n",
    "     \n",
    "     Input: listing dataframe\n",
    "     \n",
    "     Output: listing dataframe with the catagorical varibales are dummied\n",
    "    \n",
    "    \n",
    "    '''\n",
    "    cat_columns = list(df.select_dtypes(include = [\"object\"]).columns)\n",
    "    for col in cat_columns:\n",
    "        if col == \"host_verifications\": #This column treatment will be diffrent as it have list in each cell\n",
    "            df = pd.concat([df.drop(col, axis = 1),pd.get_dummies(df[col].apply(lambda x: literal_eval(x)).explode(),prefix=col,prefix_sep=\"_\").groupby(level=0).sum()],axis = 1).copy()\n",
    "        else:\n",
    "            df = pd.concat([df.drop(col, axis = 1),pd.get_dummies(df[col],prefix=col,prefix_sep=\"_\")],axis = 1).copy()\n",
    "    \n",
    "    return df"
   ]
  },
  {
   "cell_type": "markdown",
   "metadata": {},
   "source": [
    "### Modeling Data Function"
   ]
  },
  {
   "cell_type": "code",
   "execution_count": 7,
   "metadata": {},
   "outputs": [],
   "source": [
    "def linear_reg(X,y):\n",
    "    '''\n",
    "    A function which takes X and y and generate a linear regresion model\n",
    "    \n",
    "    Input: X,y\n",
    "    \n",
    "    Output: linear regression model and the r_square value\n",
    "    '''\n",
    "    #Split data into training and test data, and fit a linear model\n",
    "    X_train, X_test, y_train, y_test = train_test_split(X, y , test_size=.30, random_state=42)\n",
    "    lm_model = LinearRegression(normalize=True)\n",
    "\n",
    "    lm_model.fit(X_train, y_train)\n",
    "\n",
    "    y_test_preds = lm_model.predict(X_test)# Predictions here\n",
    "    r2_test = r2_score(y_test, y_test_preds) # Rsquared here\n",
    "\n",
    "\n",
    "    return lm_model,r2_test"
   ]
  },
  {
   "cell_type": "markdown",
   "metadata": {},
   "source": [
    "### A function to analyse and asses the produced model"
   ]
  },
  {
   "cell_type": "code",
   "execution_count": 8,
   "metadata": {},
   "outputs": [],
   "source": [
    "def coef_weights_and_p(coefficients, X,y):\n",
    "    '''\n",
    "    This function is copied from the Udacity notebooks of this course\n",
    "    A function which takes the model cofficients,X, and y to produce a table of coffiecents and P-values\n",
    "    \n",
    "    Input: model, X, and y\n",
    "    \n",
    "    Output: a dataframe which holds the cofficient and p-value of each feature in the input model \n",
    "    '''\n",
    "    #https://www.datacourses.com/find-p-value-significance-in-scikit-learn-3810/\n",
    "    #Getting the p-values to asses the significance of each coffecent, the source of the code is the link above\n",
    "\n",
    "    lm = LinearRegression()\n",
    "    lm.fit(X,y)\n",
    "    params = np.append(lm.intercept_,lm.coef_)\n",
    "    predictions = lm.predict(X)\n",
    "    new_X = np.append(np.ones((len(X),1)), X, axis=1)\n",
    "    M_S_E = (sum((y-predictions)**2))/(len(new_X)-len(new_X[0]))\n",
    "    v_b = M_S_E*(np.linalg.inv(np.dot(new_X.T,new_X)).diagonal())\n",
    "    s_b = np.sqrt(v_b)\n",
    "    t_b = params/ s_b\n",
    "    p_val =[2*(1-stats.t.cdf(np.abs(i),(len(new_X)-len(new_X[0])))) for i in t_b]\n",
    "    p_val = np.round(p_val,3)\n",
    "\n",
    "    coefs_df = pd.DataFrame()\n",
    "    coefs_df['est_int'] = X.columns\n",
    "    coefs_df['coefs'] = coefficients\n",
    "    coefs_df['abs_coefs'] = np.abs(coefficients)\n",
    "    coefs_df[\"p_val\"] = list(p_val)[1:]\n",
    "    coefs_df = coefs_df.sort_values('abs_coefs', ascending=False)\n",
    "    \n",
    "    return coefs_df"
   ]
  },
  {
   "cell_type": "markdown",
   "metadata": {},
   "source": [
    "## Question 1: What is the main contributers for a high reservations ?"
   ]
  },
  {
   "cell_type": "markdown",
   "metadata": {},
   "source": [
    "# Trial 1"
   ]
  },
  {
   "cell_type": "markdown",
   "metadata": {},
   "source": [
    "### It will be assumed that if the propertey is not avilable on a certin day then it is resrved, which means the lower the availability rate the better it is"
   ]
  },
  {
   "cell_type": "markdown",
   "metadata": {},
   "source": [
    "## Reading Data "
   ]
  },
  {
   "cell_type": "code",
   "execution_count": 9,
   "metadata": {},
   "outputs": [],
   "source": [
    "dict_dfs = reading_dfs()"
   ]
  },
  {
   "cell_type": "code",
   "execution_count": 10,
   "metadata": {},
   "outputs": [],
   "source": [
    "dict_dfs[\"calendar\"] = clean_calendar_df(dict_dfs[\"calendar\"])"
   ]
  },
  {
   "cell_type": "code",
   "execution_count": 11,
   "metadata": {},
   "outputs": [],
   "source": [
    "#Adding an extra column to the lisiting dataset which have the response value: the not available rate (the higher the better)\n",
    "dict_dfs[\"listings\"][\"not_available_rate\"] = dict_dfs[\"listings\"][\"id\"].map(dict_dfs[\"calendar\"].set_index(\"id\")[\"count\"])"
   ]
  },
  {
   "cell_type": "markdown",
   "metadata": {},
   "source": [
    "## Cleaning the data and choosing usable features"
   ]
  },
  {
   "cell_type": "code",
   "execution_count": 12,
   "metadata": {},
   "outputs": [
    {
     "name": "stderr",
     "output_type": "stream",
     "text": [
      "<ipython-input-5-331ad2e373f8>:18: FutureWarning: The default value of regex will change from True to False in a future version. In addition, single character regular expressions will *not* be treated as literal strings when regex=True.\n",
      "  df[col] = df[col].str.replace(\"$\",\"\").str.replace(\",\",\"\").apply(float)\n"
     ]
    }
   ],
   "source": [
    "X,y = clean_listings_df(dict_dfs[\"listings\"])"
   ]
  },
  {
   "cell_type": "markdown",
   "metadata": {},
   "source": [
    "## Transforming catgorical values to multiple columns"
   ]
  },
  {
   "cell_type": "code",
   "execution_count": 13,
   "metadata": {},
   "outputs": [],
   "source": [
    "X = transfrom_catgorical(X)"
   ]
  },
  {
   "cell_type": "markdown",
   "metadata": {},
   "source": [
    "## Imputing values into null cells for quantitative columns"
   ]
  },
  {
   "cell_type": "code",
   "execution_count": 14,
   "metadata": {},
   "outputs": [],
   "source": [
    "#adding an extra column to indicate if the cell is null or filled for special weekly and monthly prices and review_scores_rating\n",
    "for col in [\"weekly_price\",\"monthly_price\",\"review_scores_rating\"]:\n",
    "    X[col + \"_filled\"] = X[col].fillna(0).apply(lambda x: 0 if x == 0 else 1)\n",
    "#any null value in these columns will be filled with ZERO\n",
    "for col in [\"bathrooms\",\"bedrooms\",\"beds\",\"security_deposit\",\"cleaning_fee\",\"weekly_price\",\"monthly_price\",\"review_scores_rating\"]:\n",
    "    X[col] = X[col].fillna(0)\n",
    "#any value in these columns will be filled with the average of the column\n",
    "for col in [\"host_response_rate\",\"host_acceptance_rate\"]:\n",
    "    X[col] = X[col].fillna(X[col].dropna().mean())"
   ]
  },
  {
   "cell_type": "markdown",
   "metadata": {},
   "source": [
    "# Building a linear regresion model"
   ]
  },
  {
   "cell_type": "code",
   "execution_count": 15,
   "metadata": {},
   "outputs": [],
   "source": [
    "model,r2 = linear_reg(X,y)"
   ]
  },
  {
   "cell_type": "markdown",
   "metadata": {},
   "source": [
    "## Assesing the Model"
   ]
  },
  {
   "cell_type": "code",
   "execution_count": 16,
   "metadata": {},
   "outputs": [
    {
     "data": {
      "text/plain": [
       "-1.2745495084205239e+25"
      ]
     },
     "execution_count": 16,
     "metadata": {},
     "output_type": "execute_result"
    }
   ],
   "source": [
    "r2"
   ]
  },
  {
   "cell_type": "code",
   "execution_count": 17,
   "metadata": {},
   "outputs": [
    {
     "name": "stderr",
     "output_type": "stream",
     "text": [
      "<ipython-input-8-14bcb25ec7ef>:16: RuntimeWarning: invalid value encountered in sqrt\n",
      "  s_b = np.sqrt(v_b)\n"
     ]
    }
   ],
   "source": [
    "coefs_df = coef_weights_and_p(model.coef_,X,y)"
   ]
  },
  {
   "cell_type": "code",
   "execution_count": 18,
   "metadata": {},
   "outputs": [],
   "source": [
    "#producing a list of significant coffecients which have a p-value less then 0.1 for trial 2\n",
    "lst_of_sgnificant = list(coefs_df[coefs_df[\"p_val\"] <= 0.1][\"est_int\"])"
   ]
  },
  {
   "cell_type": "markdown",
   "metadata": {},
   "source": [
    "## Significant feauters are the ones with a p-value <= 0.1"
   ]
  },
  {
   "cell_type": "markdown",
   "metadata": {},
   "source": [
    "# The large r squared value might be an indicator for an overfitted model, some of the features will be removed from the model based on the P-value"
   ]
  },
  {
   "cell_type": "markdown",
   "metadata": {},
   "source": [
    "# Trial 2"
   ]
  },
  {
   "cell_type": "markdown",
   "metadata": {},
   "source": [
    "## Reading Data "
   ]
  },
  {
   "cell_type": "code",
   "execution_count": 19,
   "metadata": {},
   "outputs": [],
   "source": [
    "### Reading Data dict_dfs = reading_dfs()\n",
    "dict_dfs[\"calendar\"] = clean_calendar_df(dict_dfs[\"calendar\"])"
   ]
  },
  {
   "cell_type": "markdown",
   "metadata": {},
   "source": [
    "## Cleaning the data and choosing usable features"
   ]
  },
  {
   "cell_type": "code",
   "execution_count": 20,
   "metadata": {},
   "outputs": [],
   "source": [
    "#Adding an extra column to the lisiting dataset which have the response value: the not available rate (the higher the better)\n",
    "dict_dfs[\"listings\"][\"not_available_rate\"] = dict_dfs[\"listings\"][\"id\"].map(dict_dfs[\"calendar\"].set_index(\"id\")[\"count\"])"
   ]
  },
  {
   "cell_type": "code",
   "execution_count": 21,
   "metadata": {},
   "outputs": [
    {
     "name": "stderr",
     "output_type": "stream",
     "text": [
      "<ipython-input-5-331ad2e373f8>:18: FutureWarning: The default value of regex will change from True to False in a future version. In addition, single character regular expressions will *not* be treated as literal strings when regex=True.\n",
      "  df[col] = df[col].str.replace(\"$\",\"\").str.replace(\",\",\"\").apply(float)\n"
     ]
    }
   ],
   "source": [
    "X,y = clean_listings_df(dict_dfs[\"listings\"])"
   ]
  },
  {
   "cell_type": "markdown",
   "metadata": {},
   "source": [
    "## Transforming catgorical values to multiple columns"
   ]
  },
  {
   "cell_type": "code",
   "execution_count": 22,
   "metadata": {},
   "outputs": [],
   "source": [
    "X = transfrom_catgorical(X)"
   ]
  },
  {
   "cell_type": "markdown",
   "metadata": {},
   "source": [
    "## Imputing values into null cells for quantitative columns"
   ]
  },
  {
   "cell_type": "code",
   "execution_count": 23,
   "metadata": {},
   "outputs": [],
   "source": [
    "## Imputing values into null cells for quantitative columns#adding an extra column to indicate if the cell is null or filled for special weekly and monthly prices and review_scores_rating\n",
    "for col in [\"weekly_price\",\"monthly_price\",\"review_scores_rating\"]:\n",
    "    try:\n",
    "        X[col + \"_filled\"] = X[col].fillna(0).apply(lambda x: 0 if x == 0 else 1)\n",
    "    except:\n",
    "        pass\n",
    "#any null value in these columns will be filled with ZERO\n",
    "for col in [\"bathrooms\",\"bedrooms\",\"beds\",\"security_deposit\",\"cleaning_fee\",\"weekly_price\",\"monthly_price\",\"review_scores_rating\"]:\n",
    "    try:\n",
    "        X[col] = X[col].fillna(0)\n",
    "    except:\n",
    "        pass\n",
    "#any value in these columns will be filled with the average of the column\n",
    "for col in [\"host_response_rate\",\"host_acceptance_rate\"]:\n",
    "    try:\n",
    "        X[col] = X[col].fillna(X[col].dropna().mean())\n",
    "    except:\n",
    "        pass"
   ]
  },
  {
   "cell_type": "code",
   "execution_count": 24,
   "metadata": {},
   "outputs": [],
   "source": [
    "#Getting only the feauters which were significant in the first model\n",
    "X = X[lst_of_sgnificant].copy()"
   ]
  },
  {
   "cell_type": "markdown",
   "metadata": {},
   "source": [
    "# Building a linear regresion model"
   ]
  },
  {
   "cell_type": "code",
   "execution_count": 25,
   "metadata": {},
   "outputs": [],
   "source": [
    "model,r2 = linear_reg(X,y)"
   ]
  },
  {
   "cell_type": "markdown",
   "metadata": {},
   "source": [
    "## Assesing the Model"
   ]
  },
  {
   "cell_type": "code",
   "execution_count": 26,
   "metadata": {},
   "outputs": [
    {
     "data": {
      "text/plain": [
       "0.222346816437465"
      ]
     },
     "execution_count": 26,
     "metadata": {},
     "output_type": "execute_result"
    }
   ],
   "source": [
    "r2"
   ]
  },
  {
   "cell_type": "code",
   "execution_count": 27,
   "metadata": {},
   "outputs": [],
   "source": [
    "coefs_df = coef_weights_and_p(model.coef_,X,y)"
   ]
  },
  {
   "cell_type": "code",
   "execution_count": 28,
   "metadata": {},
   "outputs": [
    {
     "data": {
      "text/html": [
       "<div>\n",
       "<style scoped>\n",
       "    .dataframe tbody tr th:only-of-type {\n",
       "        vertical-align: middle;\n",
       "    }\n",
       "\n",
       "    .dataframe tbody tr th {\n",
       "        vertical-align: top;\n",
       "    }\n",
       "\n",
       "    .dataframe thead th {\n",
       "        text-align: right;\n",
       "    }\n",
       "</style>\n",
       "<table border=\"1\" class=\"dataframe\">\n",
       "  <thead>\n",
       "    <tr style=\"text-align: right;\">\n",
       "      <th></th>\n",
       "      <th>est_int</th>\n",
       "      <th>coefs</th>\n",
       "      <th>abs_coefs</th>\n",
       "      <th>p_val</th>\n",
       "    </tr>\n",
       "  </thead>\n",
       "  <tbody>\n",
       "    <tr>\n",
       "      <th>0</th>\n",
       "      <td>property_type_Camper/RV</td>\n",
       "      <td>-0.807426</td>\n",
       "      <td>0.807426</td>\n",
       "      <td>0.019</td>\n",
       "    </tr>\n",
       "    <tr>\n",
       "      <th>5</th>\n",
       "      <td>host_response_time_within an hour</td>\n",
       "      <td>-0.388198</td>\n",
       "      <td>0.388198</td>\n",
       "      <td>0.000</td>\n",
       "    </tr>\n",
       "    <tr>\n",
       "      <th>3</th>\n",
       "      <td>host_response_time_within a few hours</td>\n",
       "      <td>-0.368597</td>\n",
       "      <td>0.368597</td>\n",
       "      <td>0.000</td>\n",
       "    </tr>\n",
       "    <tr>\n",
       "      <th>8</th>\n",
       "      <td>host_verifications_manual_offline</td>\n",
       "      <td>0.299081</td>\n",
       "      <td>0.299081</td>\n",
       "      <td>0.000</td>\n",
       "    </tr>\n",
       "    <tr>\n",
       "      <th>6</th>\n",
       "      <td>host_response_time_within a day</td>\n",
       "      <td>-0.294904</td>\n",
       "      <td>0.294904</td>\n",
       "      <td>0.000</td>\n",
       "    </tr>\n",
       "    <tr>\n",
       "      <th>4</th>\n",
       "      <td>property_type_Other</td>\n",
       "      <td>-0.273304</td>\n",
       "      <td>0.273304</td>\n",
       "      <td>0.027</td>\n",
       "    </tr>\n",
       "    <tr>\n",
       "      <th>2</th>\n",
       "      <td>host_response_time_a few days or more</td>\n",
       "      <td>-0.270044</td>\n",
       "      <td>0.270044</td>\n",
       "      <td>0.013</td>\n",
       "    </tr>\n",
       "    <tr>\n",
       "      <th>1</th>\n",
       "      <td>property_type_Bed &amp; Breakfast</td>\n",
       "      <td>-0.237974</td>\n",
       "      <td>0.237974</td>\n",
       "      <td>0.000</td>\n",
       "    </tr>\n",
       "    <tr>\n",
       "      <th>9</th>\n",
       "      <td>review_scores_rating_filled</td>\n",
       "      <td>-0.237688</td>\n",
       "      <td>0.237688</td>\n",
       "      <td>0.000</td>\n",
       "    </tr>\n",
       "    <tr>\n",
       "      <th>10</th>\n",
       "      <td>host_verifications_email</td>\n",
       "      <td>-0.161178</td>\n",
       "      <td>0.161178</td>\n",
       "      <td>0.002</td>\n",
       "    </tr>\n",
       "    <tr>\n",
       "      <th>7</th>\n",
       "      <td>host_verifications_weibo</td>\n",
       "      <td>0.158335</td>\n",
       "      <td>0.158335</td>\n",
       "      <td>0.120</td>\n",
       "    </tr>\n",
       "    <tr>\n",
       "      <th>12</th>\n",
       "      <td>host_verifications_facebook</td>\n",
       "      <td>0.079619</td>\n",
       "      <td>0.079619</td>\n",
       "      <td>0.000</td>\n",
       "    </tr>\n",
       "    <tr>\n",
       "      <th>11</th>\n",
       "      <td>monthly_price_filled</td>\n",
       "      <td>-0.075746</td>\n",
       "      <td>0.075746</td>\n",
       "      <td>0.000</td>\n",
       "    </tr>\n",
       "    <tr>\n",
       "      <th>13</th>\n",
       "      <td>bedrooms</td>\n",
       "      <td>-0.004182</td>\n",
       "      <td>0.004182</td>\n",
       "      <td>0.233</td>\n",
       "    </tr>\n",
       "    <tr>\n",
       "      <th>14</th>\n",
       "      <td>review_scores_rating</td>\n",
       "      <td>0.003022</td>\n",
       "      <td>0.003022</td>\n",
       "      <td>0.000</td>\n",
       "    </tr>\n",
       "    <tr>\n",
       "      <th>16</th>\n",
       "      <td>host_response_rate</td>\n",
       "      <td>0.002219</td>\n",
       "      <td>0.002219</td>\n",
       "      <td>0.004</td>\n",
       "    </tr>\n",
       "    <tr>\n",
       "      <th>15</th>\n",
       "      <td>number_of_reviews</td>\n",
       "      <td>-0.001436</td>\n",
       "      <td>0.001436</td>\n",
       "      <td>0.000</td>\n",
       "    </tr>\n",
       "    <tr>\n",
       "      <th>17</th>\n",
       "      <td>cleaning_fee</td>\n",
       "      <td>-0.001102</td>\n",
       "      <td>0.001102</td>\n",
       "      <td>0.000</td>\n",
       "    </tr>\n",
       "    <tr>\n",
       "      <th>18</th>\n",
       "      <td>host_acceptance_rate</td>\n",
       "      <td>0.000883</td>\n",
       "      <td>0.000883</td>\n",
       "      <td>0.000</td>\n",
       "    </tr>\n",
       "    <tr>\n",
       "      <th>20</th>\n",
       "      <td>host_listings_count</td>\n",
       "      <td>0.000117</td>\n",
       "      <td>0.000117</td>\n",
       "      <td>0.005</td>\n",
       "    </tr>\n",
       "    <tr>\n",
       "      <th>21</th>\n",
       "      <td>host_since</td>\n",
       "      <td>-0.000073</td>\n",
       "      <td>0.000073</td>\n",
       "      <td>0.000</td>\n",
       "    </tr>\n",
       "    <tr>\n",
       "      <th>19</th>\n",
       "      <td>price</td>\n",
       "      <td>-0.000042</td>\n",
       "      <td>0.000042</td>\n",
       "      <td>0.078</td>\n",
       "    </tr>\n",
       "  </tbody>\n",
       "</table>\n",
       "</div>"
      ],
      "text/plain": [
       "                                  est_int     coefs  abs_coefs  p_val\n",
       "0                 property_type_Camper/RV -0.807426   0.807426  0.019\n",
       "5       host_response_time_within an hour -0.388198   0.388198  0.000\n",
       "3   host_response_time_within a few hours -0.368597   0.368597  0.000\n",
       "8       host_verifications_manual_offline  0.299081   0.299081  0.000\n",
       "6         host_response_time_within a day -0.294904   0.294904  0.000\n",
       "4                     property_type_Other -0.273304   0.273304  0.027\n",
       "2   host_response_time_a few days or more -0.270044   0.270044  0.013\n",
       "1           property_type_Bed & Breakfast -0.237974   0.237974  0.000\n",
       "9             review_scores_rating_filled -0.237688   0.237688  0.000\n",
       "10               host_verifications_email -0.161178   0.161178  0.002\n",
       "7                host_verifications_weibo  0.158335   0.158335  0.120\n",
       "12            host_verifications_facebook  0.079619   0.079619  0.000\n",
       "11                   monthly_price_filled -0.075746   0.075746  0.000\n",
       "13                               bedrooms -0.004182   0.004182  0.233\n",
       "14                   review_scores_rating  0.003022   0.003022  0.000\n",
       "16                     host_response_rate  0.002219   0.002219  0.004\n",
       "15                      number_of_reviews -0.001436   0.001436  0.000\n",
       "17                           cleaning_fee -0.001102   0.001102  0.000\n",
       "18                   host_acceptance_rate  0.000883   0.000883  0.000\n",
       "20                    host_listings_count  0.000117   0.000117  0.005\n",
       "21                             host_since -0.000073   0.000073  0.000\n",
       "19                                  price -0.000042   0.000042  0.078"
      ]
     },
     "execution_count": 28,
     "metadata": {},
     "output_type": "execute_result"
    }
   ],
   "source": [
    "coefs_df"
   ]
  },
  {
   "cell_type": "markdown",
   "metadata": {},
   "source": [
    "# a much better r squared value was obtained"
   ]
  },
  {
   "cell_type": "markdown",
   "metadata": {},
   "source": [
    "# Trial 3"
   ]
  },
  {
   "cell_type": "markdown",
   "metadata": {},
   "source": [
    "## Adding the mean of postive and negtive ratios for the predector matrix X "
   ]
  },
  {
   "cell_type": "markdown",
   "metadata": {},
   "source": [
    "## Reading Data "
   ]
  },
  {
   "cell_type": "code",
   "execution_count": 29,
   "metadata": {},
   "outputs": [],
   "source": [
    "dict_dfs = reading_dfs()\n",
    "dict_dfs[\"calendar\"] = clean_calendar_df(dict_dfs[\"calendar\"])"
   ]
  },
  {
   "cell_type": "markdown",
   "metadata": {},
   "source": [
    "## Cleaning the data and choosing usable features"
   ]
  },
  {
   "cell_type": "code",
   "execution_count": 30,
   "metadata": {},
   "outputs": [
    {
     "name": "stderr",
     "output_type": "stream",
     "text": [
      "<ipython-input-30-8b657034e4fc>:2: FutureWarning: Indexing with multiple keys (implicitly converted to a tuple of keys) will be deprecated, use a list instead.\n",
      "  dict_dfs[\"reviews\"] = dict_dfs[\"reviews\"].groupby([\"listing_id\"], as_index = False)[\"postive_ratio\",\"negtive_ratio\"].mean()\n"
     ]
    }
   ],
   "source": [
    "#Group reviews dataframe by the listing_id and get the mean of postive and negtive ratios\n",
    "dict_dfs[\"reviews\"] = dict_dfs[\"reviews\"].groupby([\"listing_id\"], as_index = False)[\"postive_ratio\",\"negtive_ratio\"].mean()\n",
    "dict_dfs[\"reviews\"].rename(columns = {\"listing_id\": \"id\",\"postive_ratio\":\"mean_postive_ratio\",\"negtive_ratio\":\"mean_negtive_ratio\"}, inplace = True)"
   ]
  },
  {
   "cell_type": "code",
   "execution_count": 31,
   "metadata": {},
   "outputs": [],
   "source": [
    "#Adding an extra column to the lisiting dataset which have the response value: the mean of postive and negtive ratios of the comments \n",
    "dict_dfs[\"listings\"][\"mean_postive_ratio\"] = dict_dfs[\"listings\"][\"id\"].map(dict_dfs[\"reviews\"].set_index(\"id\")[\"mean_postive_ratio\"])\n",
    "dict_dfs[\"listings\"][\"mean_negtive_ratio\"] = dict_dfs[\"listings\"][\"id\"].map(dict_dfs[\"reviews\"].set_index(\"id\")[\"mean_negtive_ratio\"])"
   ]
  },
  {
   "cell_type": "code",
   "execution_count": 32,
   "metadata": {},
   "outputs": [],
   "source": [
    "#Adding an extra column to the lisiting dataset which have the response value: the not available rate (the higher the better)\n",
    "dict_dfs[\"listings\"][\"not_available_rate\"] = dict_dfs[\"listings\"][\"id\"].map(dict_dfs[\"calendar\"].set_index(\"id\")[\"count\"])"
   ]
  },
  {
   "cell_type": "code",
   "execution_count": 33,
   "metadata": {},
   "outputs": [
    {
     "name": "stderr",
     "output_type": "stream",
     "text": [
      "<ipython-input-5-331ad2e373f8>:18: FutureWarning: The default value of regex will change from True to False in a future version. In addition, single character regular expressions will *not* be treated as literal strings when regex=True.\n",
      "  df[col] = df[col].str.replace(\"$\",\"\").str.replace(\",\",\"\").apply(float)\n"
     ]
    }
   ],
   "source": [
    "X,y = clean_listings_df(dict_dfs[\"listings\"], extra_columns=[\"mean_postive_ratio\",\"mean_negtive_ratio\"])"
   ]
  },
  {
   "cell_type": "markdown",
   "metadata": {},
   "source": [
    "## Transforming catgorical values to multiple columns"
   ]
  },
  {
   "cell_type": "code",
   "execution_count": 34,
   "metadata": {},
   "outputs": [],
   "source": [
    "X = transfrom_catgorical(X)"
   ]
  },
  {
   "cell_type": "markdown",
   "metadata": {},
   "source": [
    "## Imputing values into null cells for quantitative columns"
   ]
  },
  {
   "cell_type": "code",
   "execution_count": 35,
   "metadata": {},
   "outputs": [],
   "source": [
    "## Imputing values into null cells for quantitative columns#adding an extra column to indicate if the cell is null or filled for special weekly and monthly prices and review_scores_rating\n",
    "for col in [\"weekly_price\",\"monthly_price\",\"review_scores_rating\",\"mean_postive_ratio\",\"mean_negtive_ratio\"]:\n",
    "    try:\n",
    "        X[col + \"_filled\"] = X[col].fillna(0).apply(lambda x: 0 if x == 0 else 1)\n",
    "    except:\n",
    "        pass\n",
    "#any null value in these columns will be filled with ZERO\n",
    "for col in [\"bathrooms\",\"bedrooms\",\"beds\",\"security_deposit\",\"cleaning_fee\",\"weekly_price\",\"monthly_price\",\"review_scores_rating\",\"mean_postive_ratio\",\"mean_negtive_ratio\"]:\n",
    "    try:\n",
    "        X[col] = X[col].fillna(0)\n",
    "    except:\n",
    "        pass\n",
    "#any value in these columns will be filled with the average of the column\n",
    "for col in [\"host_response_rate\",\"host_acceptance_rate\"]:\n",
    "    try:\n",
    "        X[col] = X[col].fillna(X[col].dropna().mean())\n",
    "    except:\n",
    "        pass"
   ]
  },
  {
   "cell_type": "code",
   "execution_count": 36,
   "metadata": {},
   "outputs": [],
   "source": [
    "#Getting only the feauters which were significant in the first model\n",
    "lst_of_sgnificant = lst_of_sgnificant + [\"mean_postive_ratio\",\"mean_negtive_ratio\"]\n",
    "X = X[lst_of_sgnificant].copy()"
   ]
  },
  {
   "cell_type": "markdown",
   "metadata": {},
   "source": [
    "# Building a linear regresion model"
   ]
  },
  {
   "cell_type": "code",
   "execution_count": 37,
   "metadata": {},
   "outputs": [],
   "source": [
    "model,r2 = linear_reg(X,y)"
   ]
  },
  {
   "cell_type": "markdown",
   "metadata": {},
   "source": [
    "## Assesing the Model"
   ]
  },
  {
   "cell_type": "code",
   "execution_count": 38,
   "metadata": {},
   "outputs": [
    {
     "data": {
      "text/plain": [
       "0.21337712576332024"
      ]
     },
     "execution_count": 38,
     "metadata": {},
     "output_type": "execute_result"
    }
   ],
   "source": [
    "r2"
   ]
  },
  {
   "cell_type": "code",
   "execution_count": 39,
   "metadata": {},
   "outputs": [],
   "source": [
    "coefs_df = coef_weights_and_p(model.coef_,X,y)"
   ]
  },
  {
   "cell_type": "code",
   "execution_count": 40,
   "metadata": {},
   "outputs": [
    {
     "data": {
      "text/html": [
       "<div>\n",
       "<style scoped>\n",
       "    .dataframe tbody tr th:only-of-type {\n",
       "        vertical-align: middle;\n",
       "    }\n",
       "\n",
       "    .dataframe tbody tr th {\n",
       "        vertical-align: top;\n",
       "    }\n",
       "\n",
       "    .dataframe thead th {\n",
       "        text-align: right;\n",
       "    }\n",
       "</style>\n",
       "<table border=\"1\" class=\"dataframe\">\n",
       "  <thead>\n",
       "    <tr style=\"text-align: right;\">\n",
       "      <th></th>\n",
       "      <th>est_int</th>\n",
       "      <th>coefs</th>\n",
       "      <th>abs_coefs</th>\n",
       "      <th>p_val</th>\n",
       "    </tr>\n",
       "  </thead>\n",
       "  <tbody>\n",
       "    <tr>\n",
       "      <th>23</th>\n",
       "      <td>mean_negtive_ratio</td>\n",
       "      <td>-1.374090</td>\n",
       "      <td>1.374090</td>\n",
       "      <td>0.439</td>\n",
       "    </tr>\n",
       "    <tr>\n",
       "      <th>22</th>\n",
       "      <td>mean_postive_ratio</td>\n",
       "      <td>0.874244</td>\n",
       "      <td>0.874244</td>\n",
       "      <td>0.056</td>\n",
       "    </tr>\n",
       "    <tr>\n",
       "      <th>0</th>\n",
       "      <td>property_type_Camper/RV</td>\n",
       "      <td>-0.806971</td>\n",
       "      <td>0.806971</td>\n",
       "      <td>0.019</td>\n",
       "    </tr>\n",
       "    <tr>\n",
       "      <th>5</th>\n",
       "      <td>host_response_time_within an hour</td>\n",
       "      <td>-0.387378</td>\n",
       "      <td>0.387378</td>\n",
       "      <td>0.000</td>\n",
       "    </tr>\n",
       "    <tr>\n",
       "      <th>3</th>\n",
       "      <td>host_response_time_within a few hours</td>\n",
       "      <td>-0.365598</td>\n",
       "      <td>0.365598</td>\n",
       "      <td>0.000</td>\n",
       "    </tr>\n",
       "    <tr>\n",
       "      <th>8</th>\n",
       "      <td>host_verifications_manual_offline</td>\n",
       "      <td>0.298955</td>\n",
       "      <td>0.298955</td>\n",
       "      <td>0.000</td>\n",
       "    </tr>\n",
       "    <tr>\n",
       "      <th>6</th>\n",
       "      <td>host_response_time_within a day</td>\n",
       "      <td>-0.293917</td>\n",
       "      <td>0.293917</td>\n",
       "      <td>0.000</td>\n",
       "    </tr>\n",
       "    <tr>\n",
       "      <th>2</th>\n",
       "      <td>host_response_time_a few days or more</td>\n",
       "      <td>-0.281770</td>\n",
       "      <td>0.281770</td>\n",
       "      <td>0.011</td>\n",
       "    </tr>\n",
       "    <tr>\n",
       "      <th>4</th>\n",
       "      <td>property_type_Other</td>\n",
       "      <td>-0.248645</td>\n",
       "      <td>0.248645</td>\n",
       "      <td>0.035</td>\n",
       "    </tr>\n",
       "    <tr>\n",
       "      <th>1</th>\n",
       "      <td>property_type_Bed &amp; Breakfast</td>\n",
       "      <td>-0.234807</td>\n",
       "      <td>0.234807</td>\n",
       "      <td>0.000</td>\n",
       "    </tr>\n",
       "    <tr>\n",
       "      <th>9</th>\n",
       "      <td>review_scores_rating_filled</td>\n",
       "      <td>-0.199197</td>\n",
       "      <td>0.199197</td>\n",
       "      <td>0.001</td>\n",
       "    </tr>\n",
       "    <tr>\n",
       "      <th>10</th>\n",
       "      <td>host_verifications_email</td>\n",
       "      <td>-0.164137</td>\n",
       "      <td>0.164137</td>\n",
       "      <td>0.002</td>\n",
       "    </tr>\n",
       "    <tr>\n",
       "      <th>7</th>\n",
       "      <td>host_verifications_weibo</td>\n",
       "      <td>0.155647</td>\n",
       "      <td>0.155647</td>\n",
       "      <td>0.121</td>\n",
       "    </tr>\n",
       "    <tr>\n",
       "      <th>12</th>\n",
       "      <td>host_verifications_facebook</td>\n",
       "      <td>0.080200</td>\n",
       "      <td>0.080200</td>\n",
       "      <td>0.000</td>\n",
       "    </tr>\n",
       "    <tr>\n",
       "      <th>11</th>\n",
       "      <td>monthly_price_filled</td>\n",
       "      <td>-0.075783</td>\n",
       "      <td>0.075783</td>\n",
       "      <td>0.000</td>\n",
       "    </tr>\n",
       "    <tr>\n",
       "      <th>13</th>\n",
       "      <td>bedrooms</td>\n",
       "      <td>-0.004308</td>\n",
       "      <td>0.004308</td>\n",
       "      <td>0.230</td>\n",
       "    </tr>\n",
       "    <tr>\n",
       "      <th>16</th>\n",
       "      <td>host_response_rate</td>\n",
       "      <td>0.002086</td>\n",
       "      <td>0.002086</td>\n",
       "      <td>0.004</td>\n",
       "    </tr>\n",
       "    <tr>\n",
       "      <th>14</th>\n",
       "      <td>review_scores_rating</td>\n",
       "      <td>0.001970</td>\n",
       "      <td>0.001970</td>\n",
       "      <td>0.000</td>\n",
       "    </tr>\n",
       "    <tr>\n",
       "      <th>15</th>\n",
       "      <td>number_of_reviews</td>\n",
       "      <td>-0.001424</td>\n",
       "      <td>0.001424</td>\n",
       "      <td>0.000</td>\n",
       "    </tr>\n",
       "    <tr>\n",
       "      <th>17</th>\n",
       "      <td>cleaning_fee</td>\n",
       "      <td>-0.001073</td>\n",
       "      <td>0.001073</td>\n",
       "      <td>0.000</td>\n",
       "    </tr>\n",
       "    <tr>\n",
       "      <th>18</th>\n",
       "      <td>host_acceptance_rate</td>\n",
       "      <td>0.000868</td>\n",
       "      <td>0.000868</td>\n",
       "      <td>0.000</td>\n",
       "    </tr>\n",
       "    <tr>\n",
       "      <th>20</th>\n",
       "      <td>host_listings_count</td>\n",
       "      <td>0.000110</td>\n",
       "      <td>0.000110</td>\n",
       "      <td>0.006</td>\n",
       "    </tr>\n",
       "    <tr>\n",
       "      <th>21</th>\n",
       "      <td>host_since</td>\n",
       "      <td>-0.000073</td>\n",
       "      <td>0.000073</td>\n",
       "      <td>0.000</td>\n",
       "    </tr>\n",
       "    <tr>\n",
       "      <th>19</th>\n",
       "      <td>price</td>\n",
       "      <td>-0.000043</td>\n",
       "      <td>0.000043</td>\n",
       "      <td>0.077</td>\n",
       "    </tr>\n",
       "  </tbody>\n",
       "</table>\n",
       "</div>"
      ],
      "text/plain": [
       "                                  est_int     coefs  abs_coefs  p_val\n",
       "23                     mean_negtive_ratio -1.374090   1.374090  0.439\n",
       "22                     mean_postive_ratio  0.874244   0.874244  0.056\n",
       "0                 property_type_Camper/RV -0.806971   0.806971  0.019\n",
       "5       host_response_time_within an hour -0.387378   0.387378  0.000\n",
       "3   host_response_time_within a few hours -0.365598   0.365598  0.000\n",
       "8       host_verifications_manual_offline  0.298955   0.298955  0.000\n",
       "6         host_response_time_within a day -0.293917   0.293917  0.000\n",
       "2   host_response_time_a few days or more -0.281770   0.281770  0.011\n",
       "4                     property_type_Other -0.248645   0.248645  0.035\n",
       "1           property_type_Bed & Breakfast -0.234807   0.234807  0.000\n",
       "9             review_scores_rating_filled -0.199197   0.199197  0.001\n",
       "10               host_verifications_email -0.164137   0.164137  0.002\n",
       "7                host_verifications_weibo  0.155647   0.155647  0.121\n",
       "12            host_verifications_facebook  0.080200   0.080200  0.000\n",
       "11                   monthly_price_filled -0.075783   0.075783  0.000\n",
       "13                               bedrooms -0.004308   0.004308  0.230\n",
       "16                     host_response_rate  0.002086   0.002086  0.004\n",
       "14                   review_scores_rating  0.001970   0.001970  0.000\n",
       "15                      number_of_reviews -0.001424   0.001424  0.000\n",
       "17                           cleaning_fee -0.001073   0.001073  0.000\n",
       "18                   host_acceptance_rate  0.000868   0.000868  0.000\n",
       "20                    host_listings_count  0.000110   0.000110  0.006\n",
       "21                             host_since -0.000073   0.000073  0.000\n",
       "19                                  price -0.000043   0.000043  0.077"
      ]
     },
     "execution_count": 40,
     "metadata": {},
     "output_type": "execute_result"
    }
   ],
   "source": [
    "coefs_df"
   ]
  },
  {
   "cell_type": "markdown",
   "metadata": {},
   "source": [
    "# Trial 4"
   ]
  },
  {
   "cell_type": "markdown",
   "metadata": {},
   "source": [
    "## What happens if merged mean_postive_ratio and mean_negtive_ratio into one column"
   ]
  },
  {
   "cell_type": "markdown",
   "metadata": {},
   "source": [
    "## Reading Data "
   ]
  },
  {
   "cell_type": "code",
   "execution_count": 41,
   "metadata": {},
   "outputs": [],
   "source": [
    "## Reading Data dict_dfs = reading_dfs()\n",
    "dict_dfs[\"calendar\"] = clean_calendar_df(dict_dfs[\"calendar\"])"
   ]
  },
  {
   "cell_type": "markdown",
   "metadata": {},
   "source": [
    "## Cleaning the data and choosing usable features"
   ]
  },
  {
   "cell_type": "code",
   "execution_count": 42,
   "metadata": {},
   "outputs": [
    {
     "name": "stderr",
     "output_type": "stream",
     "text": [
      "<ipython-input-42-8b657034e4fc>:2: FutureWarning: Indexing with multiple keys (implicitly converted to a tuple of keys) will be deprecated, use a list instead.\n",
      "  dict_dfs[\"reviews\"] = dict_dfs[\"reviews\"].groupby([\"listing_id\"], as_index = False)[\"postive_ratio\",\"negtive_ratio\"].mean()\n"
     ]
    }
   ],
   "source": [
    "## Cleaning the data and choosing usable features#Group reviews dataframe by the listing_id and get the mean of postive and negtive ratios\n",
    "dict_dfs[\"reviews\"] = dict_dfs[\"reviews\"].groupby([\"listing_id\"], as_index = False)[\"postive_ratio\",\"negtive_ratio\"].mean()\n",
    "dict_dfs[\"reviews\"].rename(columns = {\"listing_id\": \"id\",\"postive_ratio\":\"mean_postive_ratio\",\"negtive_ratio\":\"mean_negtive_ratio\"}, inplace = True)"
   ]
  },
  {
   "cell_type": "code",
   "execution_count": 43,
   "metadata": {},
   "outputs": [],
   "source": [
    "#Adding an extra column to the lisiting dataset which have the response value: the mean of postive and negtive ratios of the comments \n",
    "dict_dfs[\"listings\"][\"mean_postive_ratio\"] = dict_dfs[\"listings\"][\"id\"].map(dict_dfs[\"reviews\"].set_index(\"id\")[\"mean_postive_ratio\"])\n",
    "dict_dfs[\"listings\"][\"mean_negtive_ratio\"] = dict_dfs[\"listings\"][\"id\"].map(dict_dfs[\"reviews\"].set_index(\"id\")[\"mean_negtive_ratio\"])\n",
    "dict_dfs[\"listings\"][\"comments_postivity\"] = dict_dfs[\"listings\"][\"mean_postive_ratio\"] - dict_dfs[\"listings\"][\"mean_negtive_ratio\"] "
   ]
  },
  {
   "cell_type": "code",
   "execution_count": 44,
   "metadata": {},
   "outputs": [],
   "source": [
    "#Adding an extra column to the lisiting dataset which have the response value: the not available rate (the higher the better)\n",
    "dict_dfs[\"listings\"][\"not_available_rate\"] = dict_dfs[\"listings\"][\"id\"].map(dict_dfs[\"calendar\"].set_index(\"id\")[\"count\"])"
   ]
  },
  {
   "cell_type": "code",
   "execution_count": 45,
   "metadata": {},
   "outputs": [
    {
     "name": "stderr",
     "output_type": "stream",
     "text": [
      "<ipython-input-5-331ad2e373f8>:18: FutureWarning: The default value of regex will change from True to False in a future version. In addition, single character regular expressions will *not* be treated as literal strings when regex=True.\n",
      "  df[col] = df[col].str.replace(\"$\",\"\").str.replace(\",\",\"\").apply(float)\n"
     ]
    }
   ],
   "source": [
    "X,y = clean_listings_df(dict_dfs[\"listings\"], extra_columns=[\"comments_postivity\"])"
   ]
  },
  {
   "cell_type": "markdown",
   "metadata": {},
   "source": [
    "## Transforming catgorical values to multiple columns"
   ]
  },
  {
   "cell_type": "code",
   "execution_count": 46,
   "metadata": {},
   "outputs": [],
   "source": [
    "X = transfrom_catgorical(X)"
   ]
  },
  {
   "cell_type": "markdown",
   "metadata": {},
   "source": [
    "## Imputing values into null cells for quantitative columns"
   ]
  },
  {
   "cell_type": "code",
   "execution_count": 47,
   "metadata": {},
   "outputs": [],
   "source": [
    "## Imputing values into null cells for quantitative columns#adding an extra column to indicate if the cell is null or filled for special weekly and monthly prices and review_scores_rating\n",
    "for col in [\"weekly_price\",\"monthly_price\",\"review_scores_rating\",\"comments_postivity\"]:\n",
    "    try:\n",
    "        X[col + \"_filled\"] = X[col].fillna(0).apply(lambda x: 0 if x == 0 else 1)\n",
    "    except:\n",
    "        pass\n",
    "#any null value in these columns will be filled with ZERO\n",
    "for col in [\"bathrooms\",\"bedrooms\",\"beds\",\"security_deposit\",\"cleaning_fee\",\"weekly_price\",\"monthly_price\",\"review_scores_rating\",\"comments_postivity\"]:\n",
    "    try:\n",
    "        X[col] = X[col].fillna(0)\n",
    "    except:\n",
    "        pass\n",
    "#any value in these columns will be filled with the average of the column\n",
    "for col in [\"host_response_rate\",\"host_acceptance_rate\"]:\n",
    "    try:\n",
    "        X[col] = X[col].fillna(X[col].dropna().mean())\n",
    "    except:\n",
    "        pass"
   ]
  },
  {
   "cell_type": "code",
   "execution_count": 48,
   "metadata": {},
   "outputs": [],
   "source": [
    "lst_of_sgnificant = ['property_type_Camper/RV',\n",
    " 'property_type_Bed & Breakfast',\n",
    " 'host_response_time_a few days or more',\n",
    " 'host_response_time_within a few hours',\n",
    " 'property_type_Other',\n",
    " 'host_response_time_within an hour',\n",
    " 'host_response_time_within a day',\n",
    " 'host_verifications_weibo',\n",
    " 'host_verifications_manual_offline',\n",
    " 'review_scores_rating_filled',\n",
    " 'host_verifications_email',\n",
    " 'monthly_price_filled',\n",
    " 'host_verifications_facebook',\n",
    " 'bedrooms',\n",
    " 'review_scores_rating',\n",
    " 'number_of_reviews',\n",
    " 'host_response_rate',\n",
    " 'cleaning_fee',\n",
    " 'host_acceptance_rate',\n",
    " 'price',\n",
    " 'host_listings_count',\n",
    " 'host_since']"
   ]
  },
  {
   "cell_type": "code",
   "execution_count": 49,
   "metadata": {},
   "outputs": [],
   "source": [
    "#Getting only the feauters which were significant in the first model\n",
    "lst_of_sgnificant = lst_of_sgnificant + [\"comments_postivity\",\"comments_postivity_filled\"]\n",
    "X = X[lst_of_sgnificant].copy()"
   ]
  },
  {
   "cell_type": "markdown",
   "metadata": {},
   "source": [
    "# Building a linear regresion model"
   ]
  },
  {
   "cell_type": "code",
   "execution_count": 50,
   "metadata": {},
   "outputs": [],
   "source": [
    "model,r2 = linear_reg(X,y)"
   ]
  },
  {
   "cell_type": "markdown",
   "metadata": {},
   "source": [
    "## Assesing the Model"
   ]
  },
  {
   "cell_type": "code",
   "execution_count": 51,
   "metadata": {},
   "outputs": [
    {
     "data": {
      "text/plain": [
       "0.21309317938891292"
      ]
     },
     "execution_count": 51,
     "metadata": {},
     "output_type": "execute_result"
    }
   ],
   "source": [
    "r2"
   ]
  },
  {
   "cell_type": "code",
   "execution_count": 52,
   "metadata": {},
   "outputs": [],
   "source": [
    "coefs_df = coef_weights_and_p(model.coef_,X,y)"
   ]
  },
  {
   "cell_type": "code",
   "execution_count": 53,
   "metadata": {},
   "outputs": [
    {
     "data": {
      "text/html": [
       "<div>\n",
       "<style scoped>\n",
       "    .dataframe tbody tr th:only-of-type {\n",
       "        vertical-align: middle;\n",
       "    }\n",
       "\n",
       "    .dataframe tbody tr th {\n",
       "        vertical-align: top;\n",
       "    }\n",
       "\n",
       "    .dataframe thead th {\n",
       "        text-align: right;\n",
       "    }\n",
       "</style>\n",
       "<table border=\"1\" class=\"dataframe\">\n",
       "  <thead>\n",
       "    <tr style=\"text-align: right;\">\n",
       "      <th></th>\n",
       "      <th>est_int</th>\n",
       "      <th>coefs</th>\n",
       "      <th>abs_coefs</th>\n",
       "      <th>p_val</th>\n",
       "    </tr>\n",
       "  </thead>\n",
       "  <tbody>\n",
       "    <tr>\n",
       "      <th>22</th>\n",
       "      <td>comments_postivity</td>\n",
       "      <td>1.015225</td>\n",
       "      <td>1.015225</td>\n",
       "      <td>0.018</td>\n",
       "    </tr>\n",
       "    <tr>\n",
       "      <th>0</th>\n",
       "      <td>property_type_Camper/RV</td>\n",
       "      <td>-0.806395</td>\n",
       "      <td>0.806395</td>\n",
       "      <td>0.019</td>\n",
       "    </tr>\n",
       "    <tr>\n",
       "      <th>5</th>\n",
       "      <td>host_response_time_within an hour</td>\n",
       "      <td>-0.386524</td>\n",
       "      <td>0.386524</td>\n",
       "      <td>0.000</td>\n",
       "    </tr>\n",
       "    <tr>\n",
       "      <th>3</th>\n",
       "      <td>host_response_time_within a few hours</td>\n",
       "      <td>-0.364173</td>\n",
       "      <td>0.364173</td>\n",
       "      <td>0.000</td>\n",
       "    </tr>\n",
       "    <tr>\n",
       "      <th>8</th>\n",
       "      <td>host_verifications_manual_offline</td>\n",
       "      <td>0.299795</td>\n",
       "      <td>0.299795</td>\n",
       "      <td>0.000</td>\n",
       "    </tr>\n",
       "    <tr>\n",
       "      <th>6</th>\n",
       "      <td>host_response_time_within a day</td>\n",
       "      <td>-0.293517</td>\n",
       "      <td>0.293517</td>\n",
       "      <td>0.000</td>\n",
       "    </tr>\n",
       "    <tr>\n",
       "      <th>2</th>\n",
       "      <td>host_response_time_a few days or more</td>\n",
       "      <td>-0.283806</td>\n",
       "      <td>0.283806</td>\n",
       "      <td>0.011</td>\n",
       "    </tr>\n",
       "    <tr>\n",
       "      <th>4</th>\n",
       "      <td>property_type_Other</td>\n",
       "      <td>-0.251033</td>\n",
       "      <td>0.251033</td>\n",
       "      <td>0.033</td>\n",
       "    </tr>\n",
       "    <tr>\n",
       "      <th>1</th>\n",
       "      <td>property_type_Bed &amp; Breakfast</td>\n",
       "      <td>-0.233642</td>\n",
       "      <td>0.233642</td>\n",
       "      <td>0.000</td>\n",
       "    </tr>\n",
       "    <tr>\n",
       "      <th>10</th>\n",
       "      <td>host_verifications_email</td>\n",
       "      <td>-0.163987</td>\n",
       "      <td>0.163987</td>\n",
       "      <td>0.002</td>\n",
       "    </tr>\n",
       "    <tr>\n",
       "      <th>7</th>\n",
       "      <td>host_verifications_weibo</td>\n",
       "      <td>0.156847</td>\n",
       "      <td>0.156847</td>\n",
       "      <td>0.119</td>\n",
       "    </tr>\n",
       "    <tr>\n",
       "      <th>9</th>\n",
       "      <td>review_scores_rating_filled</td>\n",
       "      <td>-0.151445</td>\n",
       "      <td>0.151445</td>\n",
       "      <td>0.013</td>\n",
       "    </tr>\n",
       "    <tr>\n",
       "      <th>12</th>\n",
       "      <td>host_verifications_facebook</td>\n",
       "      <td>0.080119</td>\n",
       "      <td>0.080119</td>\n",
       "      <td>0.000</td>\n",
       "    </tr>\n",
       "    <tr>\n",
       "      <th>11</th>\n",
       "      <td>monthly_price_filled</td>\n",
       "      <td>-0.075449</td>\n",
       "      <td>0.075449</td>\n",
       "      <td>0.000</td>\n",
       "    </tr>\n",
       "    <tr>\n",
       "      <th>23</th>\n",
       "      <td>comments_postivity_filled</td>\n",
       "      <td>-0.066629</td>\n",
       "      <td>0.066629</td>\n",
       "      <td>0.245</td>\n",
       "    </tr>\n",
       "    <tr>\n",
       "      <th>13</th>\n",
       "      <td>bedrooms</td>\n",
       "      <td>-0.004486</td>\n",
       "      <td>0.004486</td>\n",
       "      <td>0.229</td>\n",
       "    </tr>\n",
       "    <tr>\n",
       "      <th>16</th>\n",
       "      <td>host_response_rate</td>\n",
       "      <td>0.002041</td>\n",
       "      <td>0.002041</td>\n",
       "      <td>0.004</td>\n",
       "    </tr>\n",
       "    <tr>\n",
       "      <th>14</th>\n",
       "      <td>review_scores_rating</td>\n",
       "      <td>0.002020</td>\n",
       "      <td>0.002020</td>\n",
       "      <td>0.000</td>\n",
       "    </tr>\n",
       "    <tr>\n",
       "      <th>15</th>\n",
       "      <td>number_of_reviews</td>\n",
       "      <td>-0.001405</td>\n",
       "      <td>0.001405</td>\n",
       "      <td>0.000</td>\n",
       "    </tr>\n",
       "    <tr>\n",
       "      <th>17</th>\n",
       "      <td>cleaning_fee</td>\n",
       "      <td>-0.001071</td>\n",
       "      <td>0.001071</td>\n",
       "      <td>0.000</td>\n",
       "    </tr>\n",
       "    <tr>\n",
       "      <th>18</th>\n",
       "      <td>host_acceptance_rate</td>\n",
       "      <td>0.000865</td>\n",
       "      <td>0.000865</td>\n",
       "      <td>0.000</td>\n",
       "    </tr>\n",
       "    <tr>\n",
       "      <th>20</th>\n",
       "      <td>host_listings_count</td>\n",
       "      <td>0.000106</td>\n",
       "      <td>0.000106</td>\n",
       "      <td>0.007</td>\n",
       "    </tr>\n",
       "    <tr>\n",
       "      <th>21</th>\n",
       "      <td>host_since</td>\n",
       "      <td>-0.000072</td>\n",
       "      <td>0.000072</td>\n",
       "      <td>0.000</td>\n",
       "    </tr>\n",
       "    <tr>\n",
       "      <th>19</th>\n",
       "      <td>price</td>\n",
       "      <td>-0.000041</td>\n",
       "      <td>0.000041</td>\n",
       "      <td>0.082</td>\n",
       "    </tr>\n",
       "  </tbody>\n",
       "</table>\n",
       "</div>"
      ],
      "text/plain": [
       "                                  est_int     coefs  abs_coefs  p_val\n",
       "22                     comments_postivity  1.015225   1.015225  0.018\n",
       "0                 property_type_Camper/RV -0.806395   0.806395  0.019\n",
       "5       host_response_time_within an hour -0.386524   0.386524  0.000\n",
       "3   host_response_time_within a few hours -0.364173   0.364173  0.000\n",
       "8       host_verifications_manual_offline  0.299795   0.299795  0.000\n",
       "6         host_response_time_within a day -0.293517   0.293517  0.000\n",
       "2   host_response_time_a few days or more -0.283806   0.283806  0.011\n",
       "4                     property_type_Other -0.251033   0.251033  0.033\n",
       "1           property_type_Bed & Breakfast -0.233642   0.233642  0.000\n",
       "10               host_verifications_email -0.163987   0.163987  0.002\n",
       "7                host_verifications_weibo  0.156847   0.156847  0.119\n",
       "9             review_scores_rating_filled -0.151445   0.151445  0.013\n",
       "12            host_verifications_facebook  0.080119   0.080119  0.000\n",
       "11                   monthly_price_filled -0.075449   0.075449  0.000\n",
       "23              comments_postivity_filled -0.066629   0.066629  0.245\n",
       "13                               bedrooms -0.004486   0.004486  0.229\n",
       "16                     host_response_rate  0.002041   0.002041  0.004\n",
       "14                   review_scores_rating  0.002020   0.002020  0.000\n",
       "15                      number_of_reviews -0.001405   0.001405  0.000\n",
       "17                           cleaning_fee -0.001071   0.001071  0.000\n",
       "18                   host_acceptance_rate  0.000865   0.000865  0.000\n",
       "20                    host_listings_count  0.000106   0.000106  0.007\n",
       "21                             host_since -0.000072   0.000072  0.000\n",
       "19                                  price -0.000041   0.000041  0.082"
      ]
     },
     "execution_count": 53,
     "metadata": {},
     "output_type": "execute_result"
    }
   ],
   "source": [
    "coefs_df"
   ]
  },
  {
   "cell_type": "markdown",
   "metadata": {},
   "source": [
    "# Qustions and answers from the data"
   ]
  },
  {
   "cell_type": "markdown",
   "metadata": {},
   "source": [
    "## Q1: What are the availabilty rates for Airbnbs in Boston"
   ]
  },
  {
   "cell_type": "code",
   "execution_count": 73,
   "metadata": {},
   "outputs": [],
   "source": [
    "#Readiing dataframes\n",
    "dict_dfs = {}\n",
    "for file in os.listdir(path):\n",
    "    dict_dfs[file[:-4]] = pd.read_csv(path + \"\\\\\" + file)"
   ]
  },
  {
   "cell_type": "code",
   "execution_count": 74,
   "metadata": {},
   "outputs": [],
   "source": [
    "#transfrom the data to be aggregated based on month and year\n",
    "dict_dfs[\"calendar\"][\"year_month\"] = pd.to_datetime(dict_dfs[\"calendar\"][\"date\"]).dt.strftime('%Y-%m')\n",
    "dict_dfs[\"calendar\"] = pd.DataFrame(dict_dfs[\"calendar\"].groupby([\"year_month\"]).available.value_counts(normalize=True)).rename(columns = {\"available\":\"available_rate\"}).reset_index()"
   ]
  },
  {
   "cell_type": "code",
   "execution_count": 75,
   "metadata": {},
   "outputs": [
    {
     "data": {
      "image/png": "[encoded data removed]",
      "text/plain": [
       "<Figure size 1080x720 with 1 Axes>"
      ]
     },
     "metadata": {
      "needs_background": "light"
     },
     "output_type": "display_data"
    }
   ],
   "source": [
    "plt.figure(figsize=[15,10])\n",
    "sns.barplot(y = dict_dfs[\"calendar\"][dict_dfs[\"calendar\"][\"available\"] == \"t\"][\"year_month\"], x = dict_dfs[\"calendar\"][dict_dfs[\"calendar\"][\"available\"] == \"t\"][\"available_rate\"],color=\"skyblue\")\n",
    "plt.title(\"Availability Rate per Month for Airbnb in Boston\", fontsize = 25)\n",
    "plt.xlabel(\"Availabilty Rate\", fontsize = 15)\n",
    "plt.ylabel(\"Date\", fontsize = 15)\n",
    "plt.savefig(\"Availability Rate.jpeg\");"
   ]
  },
  {
   "cell_type": "markdown",
   "metadata": {},
   "source": [
    "## Q2: What are the features on listings which leads to higher reservations"
   ]
  },
  {
   "cell_type": "markdown",
   "metadata": {},
   "source": [
    "### The answer here will depend on the results from the forth trial"
   ]
  },
  {
   "cell_type": "code",
   "execution_count": 76,
   "metadata": {},
   "outputs": [],
   "source": [
    "#extracting feauters with postive coefficents\n",
    "postive_coefs = coefs_df[coefs_df[\"coefs\"] > 0].copy()"
   ]
  },
  {
   "cell_type": "code",
   "execution_count": 77,
   "metadata": {},
   "outputs": [],
   "source": [
    "#normalizing the coffecients\n",
    "postive_coefs[\"norm_coefs\"] = (postive_coefs[\"coefs\"]/postive_coefs[\"coefs\"].sum())*100"
   ]
  },
  {
   "cell_type": "code",
   "execution_count": 80,
   "metadata": {},
   "outputs": [
    {
     "data": {
      "image/png": "[encoded data removed]",
      "text/plain": [
       "<Figure size 720x720 with 1 Axes>"
      ]
     },
     "metadata": {
      "needs_background": "light"
     },
     "output_type": "display_data"
    }
   ],
   "source": [
    "plt.figure(figsize=[10,10])\n",
    "sns.barplot(x = postive_coefs[\"norm_coefs\"], y = postive_coefs[\"est_int\"],color=\"skyblue\")\n",
    "plt.title(\"Things to do to have better listing on Airbnb\", fontsize = 25)\n",
    "plt.xlabel(\"Effectivity %\", fontsize = 15)\n",
    "plt.ylabel(\"Feature\", fontsize = 15)\n",
    "plt.savefig(\"Things to do.jpeg\",bbox_inches = 'tight');"
   ]
  },
  {
   "cell_type": "markdown",
   "metadata": {},
   "source": [
    "## Q3: What are the features on listings which leads to lower reservations"
   ]
  },
  {
   "cell_type": "markdown",
   "metadata": {},
   "source": [
    "### The answer here will depend on the results from the forth trial"
   ]
  },
  {
   "cell_type": "code",
   "execution_count": 60,
   "metadata": {},
   "outputs": [],
   "source": [
    "#extracting feauters with negtive coefficents\n",
    "negtive_coefs = coefs_df[coefs_df[\"coefs\"] < 0].copy()"
   ]
  },
  {
   "cell_type": "code",
   "execution_count": 61,
   "metadata": {},
   "outputs": [],
   "source": [
    "#normalizing the coffecients\n",
    "negtive_coefs[\"norm_coefs\"] = (negtive_coefs[\"coefs\"]/negtive_coefs[\"coefs\"].sum())*100"
   ]
  },
  {
   "cell_type": "code",
   "execution_count": 81,
   "metadata": {},
   "outputs": [
    {
     "data": {
      "image/png": "[encoded data removed]",
      "text/plain": [
       "<Figure size 720x720 with 1 Axes>"
      ]
     },
     "metadata": {
      "needs_background": "light"
     },
     "output_type": "display_data"
    }
   ],
   "source": [
    "plt.figure(figsize=[10,10])\n",
    "sns.barplot(x = negtive_coefs[\"norm_coefs\"], y = negtive_coefs[\"est_int\"],color=\"skyblue\")\n",
    "plt.title(\"Things to avoid to have better listing on Airbnb\", fontsize = 25)\n",
    "plt.xlabel(\"Harm %\", fontsize = 15)\n",
    "plt.ylabel(\"Feature\", fontsize = 15)\n",
    "plt.savefig(\"Things to avoid.jpeg\",bbox_inches = 'tight');"
   ]
  }
 ],
 "metadata": {
  "kernelspec": {
   "display_name": "Python 3",
   "language": "python",
   "name": "python3"
  },
  "language_info": {
   "codemirror_mode": {
    "name": "ipython",
    "version": 3
   },
   "file_extension": ".py",
   "mimetype": "text/x-python",
   "name": "python",
   "nbconvert_exporter": "python",
   "pygments_lexer": "ipython3",
   "version": "3.8.5"
  }
 },
 "nbformat": 4,
 "nbformat_minor": 4
}
